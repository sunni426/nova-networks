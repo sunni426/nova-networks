{
 "cells": [
  {
   "cell_type": "code",
   "execution_count": 35,
   "id": "aede43c5-127a-461e-a3ff-6dbf5cd367a5",
   "metadata": {},
   "outputs": [
    {
     "name": "stdout",
     "output_type": "stream",
     "text": [
      "/projectnb/btec-design3/novanetworks/nova-networks/HPA-nova\n",
      "(72, 325, 4)\n"
     ]
    }
   ],
   "source": [
    "import numpy as np\n",
    "import cv2\n",
    "from skimage.io import imread\n",
    "\n",
    "!pwd\n",
    "x = imread('../preprocessing/train_5000/cell_10/5f79a114-bb99-11e8-b2b9-ac1f6b6435d0_cell2.png')\n",
    "print(x.shape)"
   ]
  },
  {
   "cell_type": "code",
   "execution_count": 141,
   "id": "df5301ae-75a2-4320-9e2c-1b8c1e4cdf8e",
   "metadata": {},
   "outputs": [
    {
     "name": "stdout",
     "output_type": "stream",
     "text": [
      "True\n",
      "True\n",
      "1\n",
      "2024-03-19 16:56:05.694351: E external/local_xla/xla/stream_executor/cuda/cuda_dnn.cc:9261] Unable to register cuDNN factory: Attempting to register factory for plugin cuDNN when one has already been registered\n",
      "2024-03-19 16:56:05.694392: E external/local_xla/xla/stream_executor/cuda/cuda_fft.cc:607] Unable to register cuFFT factory: Attempting to register factory for plugin cuFFT when one has already been registered\n",
      "2024-03-19 16:56:05.695750: E external/local_xla/xla/stream_executor/cuda/cuda_blas.cc:1515] Unable to register cuBLAS factory: Attempting to register factory for plugin cuBLAS when one has already been registered\n",
      "2024-03-19 16:56:05.702803: I tensorflow/core/platform/cpu_feature_guard.cc:182] This TensorFlow binary is optimized to use available CPU instructions in performance-critical operations.\n",
      "To enable the following instructions: AVX2 AVX512F FMA, in other operations, rebuild TensorFlow with the appropriate compiler flags.\n",
      "2024-03-19 16:56:06.870099: W tensorflow/compiler/tf2tensorrt/utils/py_utils.cc:38] TF-TRT Warning: Could not find TensorRT\n",
      "[ √ ] Landmark!\n",
      "[ √ ] Using #1 GPU\n",
      "Best check we use is: f-1_epoch-5.pth\n",
      "[ √ ] Using transformation: s_0220/sin_256_final & s_0220/sin_256_final, image size: 256\n",
      "[ √ ] Use weighted sampler, method: sqrt\n",
      "                                     ID  class0  class1  ...  class18  fold  idx\n",
      "0  5fb643ee-bb99-11e8-b2b9-ac1f6b6435d0     1.0       0  ...      0.0     2   14\n",
      "1  5c1a898e-bb99-11e8-b2b9-ac1f6b6435d0     0.0       0  ...      0.0     3   16\n",
      "\n",
      "[2 rows x 22 columns]\n",
      "[ W ] single gpu prediction the gpus is 1\n",
      "Testing...\n",
      "[!] Computing Grad-CAM in test mode...\n",
      "grad_img: ../preprocessing/train_5000/cell_10/9444d95a-bbc5-11e8-b2bc-ac1f6b6435d0_cell1.png\n",
      "Traceback (most recent call last):\n",
      "  File \"/projectnb/btec-design3/novanetworks/nova-networks/HPA-nova/main.py\", line 96, in <module>\n",
      "    test_mAP, test_loss = basic_test(model, test_dl, loss_func, cfg, best_epoch)\n",
      "  File \"/projectnb/btec-design3/novanetworks/nova-networks/HPA-nova/basic_train.py\", line 465, in basic_test\n",
      "    gradcam_instance = novaGradCAM(mdl, grad_img, 256)\n",
      "  File \"/projectnb/btec-design3/novanetworks/nova-networks/HPA-nova/gradcam.py\", line 31, in __init__\n",
      "    self.target_layers = [self.model.extractor[-1]] # for efficientnet2 (newly trained)\n",
      "  File \"/projectnb/btec-design3/novanetworks/novaenv/lib/python3.10/site-packages/torch/nn/modules/module.py\", line 1207, in __getattr__\n",
      "    raise AttributeError(\"'{}' object has no attribute '{}'\".format(\n",
      "AttributeError: 'ViT' object has no attribute 'extractor'\n"
     ]
    }
   ],
   "source": [
    "import torch\n",
    "print(torch.backends.cudnn.enabled)\n",
    "print(torch.cuda.is_available())\n",
    "import os\n",
    "print(os.getenv(\"CUDA_VISIBLE_DEVICES\"))\n",
    "\n",
    "# for testing gradcam, need to specify the model name in configs too\n",
    "# !python main.py test -i b409 -j options/nova1.yaml # efficientnet_b3\n",
    "# !python main.py test -i b411 -j options/nova1.yaml # resnet50\n",
    "# !python main.py test -i b384 -j options/nova1.yaml # efficientnet2\n",
    "!python main.py test -i d32 -j options/nova1.yaml # vit\n",
    "\n",
    "\n",
    "# !python main.py train -i d32 -j options/nova1.yaml\n"
   ]
  },
  {
   "cell_type": "code",
   "execution_count": 135,
   "id": "fd132325-12a5-466e-bc08-248989a49797",
   "metadata": {},
   "outputs": [
    {
     "name": "stdout",
     "output_type": "stream",
     "text": [
      "Collecting transformers==4.29.2\n",
      "  Downloading transformers-4.29.2-py3-none-any.whl.metadata (112 kB)\n",
      "\u001b[2K     \u001b[90m━━━━━━━━━━━━━━━━━━━━━━━━━━━━━━━━━━━━━━━\u001b[0m \u001b[32m112.3/112.3 kB\u001b[0m \u001b[31m8.5 MB/s\u001b[0m eta \u001b[36m0:00:00\u001b[0m\n",
      "\u001b[?25hRequirement already satisfied: filelock in /projectnb/btec-design3/novanetworks/novaenv/lib/python3.10/site-packages (from transformers==4.29.2) (3.13.1)\n",
      "Requirement already satisfied: huggingface-hub<1.0,>=0.14.1 in /projectnb/btec-design3/novanetworks/novaenv/lib/python3.10/site-packages (from transformers==4.29.2) (0.19.4)\n",
      "Requirement already satisfied: numpy>=1.17 in /projectnb/btec-design3/novanetworks/novaenv/lib/python3.10/site-packages (from transformers==4.29.2) (1.26.1)\n",
      "Requirement already satisfied: packaging>=20.0 in /projectnb/btec-design3/novanetworks/novaenv/lib/python3.10/site-packages (from transformers==4.29.2) (23.2)\n",
      "Requirement already satisfied: pyyaml>=5.1 in /projectnb/btec-design3/novanetworks/novaenv/lib/python3.10/site-packages (from transformers==4.29.2) (6.0.1)\n",
      "Collecting regex!=2019.12.17 (from transformers==4.29.2)\n",
      "  Downloading regex-2023.12.25-cp310-cp310-manylinux_2_17_x86_64.manylinux2014_x86_64.whl.metadata (40 kB)\n",
      "\u001b[2K     \u001b[90m━━━━━━━━━━━━━━━━━━━━━━━━━━━━━━━━━━━━━━━\u001b[0m \u001b[32m40.9/40.9 kB\u001b[0m \u001b[31m244.8 MB/s\u001b[0m eta \u001b[36m0:00:00\u001b[0m\n",
      "\u001b[?25hRequirement already satisfied: requests in /projectnb/btec-design3/novanetworks/novaenv/lib/python3.10/site-packages (from transformers==4.29.2) (2.31.0)\n",
      "Collecting tokenizers!=0.11.3,<0.14,>=0.11.1 (from transformers==4.29.2)\n",
      "  Downloading tokenizers-0.13.3-cp310-cp310-manylinux_2_17_x86_64.manylinux2014_x86_64.whl.metadata (6.7 kB)\n",
      "Requirement already satisfied: tqdm>=4.27 in /projectnb/btec-design3/novanetworks/novaenv/lib/python3.10/site-packages (from transformers==4.29.2) (4.66.1)\n",
      "Requirement already satisfied: fsspec>=2023.5.0 in /projectnb/btec-design3/novanetworks/novaenv/lib/python3.10/site-packages (from huggingface-hub<1.0,>=0.14.1->transformers==4.29.2) (2023.6.0)\n",
      "Requirement already satisfied: typing-extensions>=3.7.4.3 in /projectnb/btec-design3/novanetworks/novaenv/lib/python3.10/site-packages (from huggingface-hub<1.0,>=0.14.1->transformers==4.29.2) (4.8.0)\n",
      "Requirement already satisfied: charset-normalizer<4,>=2 in /projectnb/btec-design3/novanetworks/novaenv/lib/python3.10/site-packages (from requests->transformers==4.29.2) (3.3.2)\n",
      "Requirement already satisfied: idna<4,>=2.5 in /projectnb/btec-design3/novanetworks/novaenv/lib/python3.10/site-packages (from requests->transformers==4.29.2) (3.4)\n",
      "Requirement already satisfied: urllib3<3,>=1.21.1 in /projectnb/btec-design3/novanetworks/novaenv/lib/python3.10/site-packages (from requests->transformers==4.29.2) (1.26.18)\n",
      "Requirement already satisfied: certifi>=2017.4.17 in /projectnb/btec-design3/novanetworks/novaenv/lib/python3.10/site-packages (from requests->transformers==4.29.2) (2023.7.22)\n",
      "Downloading transformers-4.29.2-py3-none-any.whl (7.1 MB)\n",
      "\u001b[2K   \u001b[90m━━━━━━━━━━━━━━━━━━━━━━━━━━━━━━━━━━━━━━━━\u001b[0m \u001b[32m7.1/7.1 MB\u001b[0m \u001b[31m128.9 MB/s\u001b[0m eta \u001b[36m0:00:00\u001b[0ma \u001b[36m0:00:01\u001b[0m\n",
      "\u001b[?25hDownloading regex-2023.12.25-cp310-cp310-manylinux_2_17_x86_64.manylinux2014_x86_64.whl (773 kB)\n",
      "\u001b[2K   \u001b[90m━━━━━━━━━━━━━━━━━━━━━━━━━━━━━━━━━━━━━━━\u001b[0m \u001b[32m774.0/774.0 kB\u001b[0m \u001b[31m348.5 MB/s\u001b[0m eta \u001b[36m0:00:00\u001b[0m\n",
      "\u001b[?25hDownloading tokenizers-0.13.3-cp310-cp310-manylinux_2_17_x86_64.manylinux2014_x86_64.whl (7.8 MB)\n",
      "\u001b[2K   \u001b[90m━━━━━━━━━━━━━━━━━━━━━━━━━━━━━━━━━━━━━━━━\u001b[0m \u001b[32m7.8/7.8 MB\u001b[0m \u001b[31m238.9 MB/s\u001b[0m eta \u001b[36m0:00:00\u001b[0m\n",
      "\u001b[?25hInstalling collected packages: tokenizers, regex, transformers\n",
      "Successfully installed regex-2023.12.25 tokenizers-0.13.3 transformers-4.29.2\n"
     ]
    }
   ],
   "source": [
    "# Mar 9: Updating driver. for CUDA 12.1\n",
    "# https://pytorch.org/get-started/previous-versions/\n",
    "# !pip install torch==2.1.2 torchvision==0.16.2 torchaudio==2.1.2 --index-url https://download.pytorch.org/whl/cu121\n",
    "!pip install transformers==4.29.2 # Need this to tackle load_state_dict error\n",
    "# Mar 9: Updating driver. for CUDA 11.3\n",
    "# ! pip install torch==1.12.0+cu113 torchvision==0.13.0+cu113 torchaudio==0.12.0 --extra-index-url https://download.pytorch.org/whl/cu113"
   ]
  },
  {
   "cell_type": "code",
   "execution_count": null,
   "id": "b315fe8c-ef94-4b05-a3a1-0c17db52b1de",
   "metadata": {},
   "outputs": [],
   "source": []
  }
 ],
 "metadata": {
  "kernelspec": {
   "display_name": "Python 3 (ipykernel)",
   "language": "python",
   "name": "python3"
  },
  "language_info": {
   "codemirror_mode": {
    "name": "ipython",
    "version": 3
   },
   "file_extension": ".py",
   "mimetype": "text/x-python",
   "name": "python",
   "nbconvert_exporter": "python",
   "pygments_lexer": "ipython3",
   "version": "3.10.12"
  }
 },
 "nbformat": 4,
 "nbformat_minor": 5
}
