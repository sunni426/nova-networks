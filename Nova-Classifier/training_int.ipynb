{
 "cells": [
  {
   "cell_type": "code",
   "execution_count": 8,
   "id": "df5301ae-75a2-4320-9e2c-1b8c1e4cdf8e",
   "metadata": {},
   "outputs": [
    {
     "name": "stdout",
     "output_type": "stream",
     "text": [
      "2024-03-20 14:28:22.690994: E external/local_xla/xla/stream_executor/cuda/cuda_dnn.cc:9261] Unable to register cuDNN factory: Attempting to register factory for plugin cuDNN when one has already been registered\n",
      "2024-03-20 14:28:22.691031: E external/local_xla/xla/stream_executor/cuda/cuda_fft.cc:607] Unable to register cuFFT factory: Attempting to register factory for plugin cuFFT when one has already been registered\n",
      "2024-03-20 14:28:22.692212: E external/local_xla/xla/stream_executor/cuda/cuda_blas.cc:1515] Unable to register cuBLAS factory: Attempting to register factory for plugin cuBLAS when one has already been registered\n",
      "2024-03-20 14:28:22.698859: I tensorflow/core/platform/cpu_feature_guard.cc:182] This TensorFlow binary is optimized to use available CPU instructions in performance-critical operations.\n",
      "To enable the following instructions: AVX2 FMA, in other operations, rebuild TensorFlow with the appropriate compiler flags.\n",
      "2024-03-20 14:28:25.076949: W tensorflow/compiler/tf2tensorrt/utils/py_utils.cc:38] TF-TRT Warning: Could not find TensorRT\n",
      "[ √ ] Landmark!\n",
      "[ √ ] Using #0 GPU\n",
      "[ ! ] Full fold coverage training! for fold: 0\n",
      "[ √ ] Using transformation: s_0220/sin_256_final & s_0220/sin_256_final, image size: 256\n",
      "[ √ ] Use weighted sampler, method: sqrt\n",
      "                                     ID  class0  class1  ...  class18  fold  idx\n",
      "0  5fb643ee-bb99-11e8-b2b9-ac1f6b6435d0     1.0       0  ...      0.0     2   14\n",
      "1  5c1a898e-bb99-11e8-b2b9-ac1f6b6435d0     0.0       0  ...      0.0     3   16\n",
      "\n",
      "[2 rows x 22 columns]\n",
      "[ i ] The length of train_dl is 535, valid dl is 480\n",
      "[ i ] Model: vit, loss_func: weighted_ce_loss, optimizer: Adam\n",
      "[ ! ] pos weight: 0.1\n",
      "[ ! ] class weight: tensor([ 2.5310,  6.5795,  4.3644,  4.2295,  3.5400,  3.9344,  4.5361,  3.7037,\n",
      "         4.3073,  5.7354,  4.9147, 30.1511,  4.1849,  3.4752,  3.0671, 10.4257,\n",
      "         3.3059,  5.9339, 15.0756], device='cuda:0')\n",
      "[ √ ] Basic training\n",
      "100%|██████████████████| 535/535 [05:29<00:00,  1.62it/s, loss=0.902, lr=0.0002]\n",
      "Validating...\n",
      "predicted_cell: (480, 10, 19)\n",
      "predicted: (480, 10, 19), truth: (480, 19)\n",
      "[ √ ] epochs: 0, train loss: 0.9016, valid loss: 0.8629, accuracy: 0.9156, auc: 0.6422, mAP: 0.3515\n",
      "100%|██████████████████| 535/535 [06:58<00:00,  1.28it/s, loss=0.893, lr=0.0002]\n",
      "Validating...\n",
      "predicted_cell: (480, 10, 19)\n",
      "predicted: (480, 10, 19), truth: (480, 19)\n",
      "[ √ ] epochs: 2, train loss: 0.8927, valid loss: 0.8533, accuracy: 0.9156, auc: 0.6507, mAP: 0.4315\n",
      "100%|██████████████████| 535/535 [06:19<00:00,  1.41it/s, loss=0.891, lr=0.0002]\n",
      "Validating...\n",
      "predicted_cell: (480, 10, 19)\n",
      "predicted: (480, 10, 19), truth: (480, 19)\n",
      "[ √ ] epochs: 3, train loss: 0.8913, valid loss: 0.8520, accuracy: 0.9156, auc: 0.6558, mAP: 0.4327\n",
      "100%|██████████████████| 535/535 [06:03<00:00,  1.47it/s, loss=0.887, lr=0.0002]\n",
      "Validating...\n",
      "predicted_cell: (480, 10, 19)\n",
      "predicted: (480, 10, 19), truth: (480, 19)\n",
      "[ √ ] epochs: 4, train loss: 0.8871, valid loss: 0.8510, accuracy: 0.9156, auc: 0.6661, mAP: 0.4416\n",
      "100%|██████████████████| 535/535 [05:44<00:00,  1.55it/s, loss=0.887, lr=0.0002]\n",
      "Validating...\n",
      "predicted_cell: (480, 10, 19)\n",
      "predicted: (480, 10, 19), truth: (480, 19)\n",
      "[ √ ] epochs: 5, train loss: 0.8866, valid loss: 0.8503, accuracy: 0.9156, auc: 0.6769, mAP: 0.4478\n",
      "100%|████████████████████| 535/535 [06:16<00:00,  1.42it/s, loss=nan, lr=0.0002]\n",
      "Validating...\n",
      "predicted_cell: (480, 10, 19)\n",
      "predicted: (480, 10, 19), truth: (480, 19)\n",
      "Traceback (most recent call last):\n",
      "  File \"/projectnb/btec-design3/novanetworks/nova-networks/HPA-nova/main.py\", line 157, in <module>\n",
      "    basic_train(cfg, model, train_dl, valid_dl, loss_func, optimizer, result_path, scheduler, writer)\n",
      "  File \"/projectnb/btec-design3/novanetworks/nova-networks/HPA-nova/basic_train.py\", line 176, in basic_train\n",
      "    validate_loss, accuracy, auc, mAP = basic_validate(model, valid_dl, loss_func, cfg, epoch, tune)\n",
      "  File \"/projectnb/btec-design3/novanetworks/nova-networks/HPA-nova/basic_train.py\", line 292, in basic_validate\n",
      "    roc_values.append(roc_auc_score(truth_auc, predicted_auc))\n",
      "  File \"/projectnb/btec-design3/novanetworks/novaenv/lib/python3.10/site-packages/sklearn/utils/_param_validation.py\", line 214, in wrapper\n",
      "    return func(*args, **kwargs)\n",
      "  File \"/projectnb/btec-design3/novanetworks/novaenv/lib/python3.10/site-packages/sklearn/metrics/_ranking.py\", line 606, in roc_auc_score\n",
      "    y_score = check_array(y_score, ensure_2d=False)\n",
      "  File \"/projectnb/btec-design3/novanetworks/novaenv/lib/python3.10/site-packages/sklearn/utils/validation.py\", line 957, in check_array\n",
      "    _assert_all_finite(\n",
      "  File \"/projectnb/btec-design3/novanetworks/novaenv/lib/python3.10/site-packages/sklearn/utils/validation.py\", line 122, in _assert_all_finite\n",
      "    _assert_all_finite_element_wise(\n",
      "  File \"/projectnb/btec-design3/novanetworks/novaenv/lib/python3.10/site-packages/sklearn/utils/validation.py\", line 171, in _assert_all_finite_element_wise\n",
      "    raise ValueError(msg_err)\n",
      "ValueError: Input contains NaN.\n"
     ]
    }
   ],
   "source": [
    "import torch\n",
    "\n",
    "!python main.py train -i e6 -j options/nova1.yaml\n",
    "\n",
    "# a36: alexnet training, March 5\n",
    "# a110: efficientnet2 training (only cell level output), March 8\n",
    "# a129: validation dataset (40 imgs) training with both cell and image level, efficientnet2, March 9\n",
    "# a134: testing dataset (800 imgs) training with both cell and image level, efficientnet2, March 9, 53 epochs\n",
    "# d15: vit training"
   ]
  },
  {
   "cell_type": "code",
   "execution_count": null,
   "id": "fd132325-12a5-466e-bc08-248989a49797",
   "metadata": {},
   "outputs": [
    {
     "name": "stdout",
     "output_type": "stream",
     "text": [
      "Looking in indexes: https://pypi.org/simple, https://download.pytorch.org/whl/cu113\n",
      "Collecting torch==1.12.0+cu113\n",
      "  Downloading https://download.pytorch.org/whl/cu113/torch-1.12.0%2Bcu113-cp310-cp310-linux_x86_64.whl (1837.6 MB)\n",
      "\u001b[2K     \u001b[90m━━━━━━━━━━━━━━━━━━━━━━━━━━━━━━━━━━━━━━━━\u001b[0m \u001b[32m1.8/1.8 GB\u001b[0m \u001b[31m117.1 MB/s\u001b[0m eta \u001b[36m0:00:00\u001b[0m00:01\u001b[0m00:01\u001b[0m\n",
      "\u001b[?25hCollecting torchvision==0.13.0+cu113\n",
      "  Downloading https://download.pytorch.org/whl/cu113/torchvision-0.13.0%2Bcu113-cp310-cp310-linux_x86_64.whl (23.4 MB)\n",
      "\u001b[2K     \u001b[90m━━━━━━━━━━━━━━━━━━━━━━━━━━━━━━━━━━━━━━━━\u001b[0m \u001b[32m23.4/23.4 MB\u001b[0m \u001b[31m64.1 MB/s\u001b[0m eta \u001b[36m0:00:00\u001b[0ma \u001b[36m0:00:01\u001b[0m\n",
      "\u001b[?25hCollecting torchaudio==0.12.0\n",
      "  Downloading https://download.pytorch.org/whl/cu113/torchaudio-0.12.0%2Bcu113-cp310-cp310-linux_x86_64.whl (3.8 MB)\n",
      "\u001b[2K     \u001b[90m━━━━━━━━━━━━━━━━━━━━━━━━━━━━━━━━━━━━━━━━\u001b[0m \u001b[32m3.8/3.8 MB\u001b[0m \u001b[31m48.7 MB/s\u001b[0m eta \u001b[36m0:00:00\u001b[0ma \u001b[36m0:00:01\u001b[0m\n",
      "\u001b[?25hRequirement already satisfied: typing-extensions in /projectnb/btec-design3/novanetworks/novaenv/lib/python3.10/site-packages (from torch==1.12.0+cu113) (4.8.0)\n",
      "Requirement already satisfied: numpy in /projectnb/btec-design3/novanetworks/novaenv/lib/python3.10/site-packages (from torchvision==0.13.0+cu113) (1.26.1)\n",
      "Requirement already satisfied: requests in /projectnb/btec-design3/novanetworks/novaenv/lib/python3.10/site-packages (from torchvision==0.13.0+cu113) (2.31.0)\n",
      "Requirement already satisfied: pillow!=8.3.*,>=5.3.0 in /projectnb/btec-design3/novanetworks/novaenv/lib/python3.10/site-packages (from torchvision==0.13.0+cu113) (10.0.1)\n",
      "Requirement already satisfied: charset-normalizer<4,>=2 in /projectnb/btec-design3/novanetworks/novaenv/lib/python3.10/site-packages (from requests->torchvision==0.13.0+cu113) (3.3.2)\n",
      "Requirement already satisfied: idna<4,>=2.5 in /projectnb/btec-design3/novanetworks/novaenv/lib/python3.10/site-packages (from requests->torchvision==0.13.0+cu113) (3.4)\n",
      "Requirement already satisfied: urllib3<3,>=1.21.1 in /projectnb/btec-design3/novanetworks/novaenv/lib/python3.10/site-packages (from requests->torchvision==0.13.0+cu113) (1.26.18)\n",
      "Requirement already satisfied: certifi>=2017.4.17 in /projectnb/btec-design3/novanetworks/novaenv/lib/python3.10/site-packages (from requests->torchvision==0.13.0+cu113) (2023.7.22)\n",
      "Installing collected packages: torch, torchvision, torchaudio\n",
      "  Attempting uninstall: torch\n",
      "    Found existing installation: torch 2.1.2+cu121\n",
      "    Uninstalling torch-2.1.2+cu121:\n",
      "      Successfully uninstalled torch-2.1.2+cu121\n"
     ]
    }
   ],
   "source": [
    "# Mar 9: Updating driver. for CUDA 12.1\n",
    "# https://pytorch.org/get-started/previous-versions/\n",
    "# !pip install torch==2.1.2 torchvision==0.16.2 torchaudio==2.1.2 --index-url https://download.pytorch.org/whl/cu121\n",
    "\n",
    "# Mar 9: Updating driver. for CUDA 11.3\n",
    "! pip install torch==1.12.0+cu113 torchvision==0.13.0+cu113 torchaudio==0.12.0 --extra-index-url https://download.pytorch.org/whl/cu113"
   ]
  },
  {
   "cell_type": "code",
   "execution_count": null,
   "id": "b315fe8c-ef94-4b05-a3a1-0c17db52b1de",
   "metadata": {},
   "outputs": [],
   "source": []
  }
 ],
 "metadata": {
  "kernelspec": {
   "display_name": "Python 3 (ipykernel)",
   "language": "python",
   "name": "python3"
  },
  "language_info": {
   "codemirror_mode": {
    "name": "ipython",
    "version": 3
   },
   "file_extension": ".py",
   "mimetype": "text/x-python",
   "name": "python",
   "nbconvert_exporter": "python",
   "pygments_lexer": "ipython3",
   "version": "3.10.12"
  }
 },
 "nbformat": 4,
 "nbformat_minor": 5
}
