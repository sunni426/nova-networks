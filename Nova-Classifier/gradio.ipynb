{
 "cells": [
  {
   "cell_type": "code",
   "execution_count": 1,
   "id": "d774a709-71c8-425d-a198-bacd6a0f78bf",
   "metadata": {},
   "outputs": [
    {
     "name": "stdout",
     "output_type": "stream",
     "text": [
      "/projectnb/btec-design3/novanetworks/novaenv/bin/python\n",
      "/projectnb/btec-design3/novanetworks/nova-networks/HPA-nova\n",
      "True\n",
      "True\n",
      "0\n"
     ]
    }
   ],
   "source": [
    "!which python\n",
    "!pwd\n",
    "\n",
    "import torch\n",
    "# Making the code device-agnostic\n",
    "!source ../../novaenv/bin/activate\n",
    "print(torch.backends.cudnn.enabled)\n",
    "print(torch.cuda.is_available())\n",
    "import os\n",
    "print(os.getenv(\"CUDA_VISIBLE_DEVICES\"))\n",
    "torch.cuda.empty_cache()"
   ]
  },
  {
   "cell_type": "code",
   "execution_count": 2,
   "id": "b3c45449-ed72-4048-b48e-45d29a052cfc",
   "metadata": {},
   "outputs": [
    {
     "name": "stdout",
     "output_type": "stream",
     "text": [
      "2024-04-14 15:10:34.879419: E external/local_xla/xla/stream_executor/cuda/cuda_dnn.cc:9261] Unable to register cuDNN factory: Attempting to register factory for plugin cuDNN when one has already been registered\n",
      "2024-04-14 15:10:34.879480: E external/local_xla/xla/stream_executor/cuda/cuda_fft.cc:607] Unable to register cuFFT factory: Attempting to register factory for plugin cuFFT when one has already been registered\n",
      "2024-04-14 15:10:34.880734: E external/local_xla/xla/stream_executor/cuda/cuda_blas.cc:1515] Unable to register cuBLAS factory: Attempting to register factory for plugin cuBLAS when one has already been registered\n",
      "2024-04-14 15:10:34.887645: I tensorflow/core/platform/cpu_feature_guard.cc:182] This TensorFlow binary is optimized to use available CPU instructions in performance-critical operations.\n",
      "To enable the following instructions: AVX2 AVX512F FMA, in other operations, rebuild TensorFlow with the appropriate compiler flags.\n",
      "2024-04-14 15:10:36.681759: W tensorflow/compiler/tf2tensorrt/utils/py_utils.cc:38] TF-TRT Warning: Could not find TensorRT\n",
      "[ √ ] Using #0 GPU\n",
      "[ √ ] Using #0 GPU\n",
      "Traceback (most recent call last):\n",
      "  File \"/projectnb/btec-design3/novanetworks/nova-networks/HPA-nova/mygradio.py\", line 162, in <module>\n",
      "    model = get_best_model()\n",
      "  File \"/projectnb/btec-design3/novanetworks/novaenv/lib/python3.10/site-packages/torch/autograd/grad_mode.py\", line 27, in decorate_context\n",
      "    return func(*args, **kwargs)\n",
      "  File \"/projectnb/btec-design3/novanetworks/nova-networks/HPA-nova/mygradio.py\", line 78, in get_best_model\n",
      "    msg = model.load_state_dict(checkpoint['model'], strict=False)\n",
      "  File \"/projectnb/btec-design3/novanetworks/novaenv/lib/python3.10/site-packages/torch/nn/modules/module.py\", line 1604, in load_state_dict\n",
      "    raise RuntimeError('Error(s) in loading state_dict for {}:\\n\\t{}'.format(\n",
      "RuntimeError: Error(s) in loading state_dict for VisionTransformer:\n",
      "\tsize mismatch for head.weight: copying a param with shape torch.Size([19, 768]) from checkpoint, the shape in current model is torch.Size([1000, 768]).\n",
      "\tsize mismatch for head.bias: copying a param with shape torch.Size([19]) from checkpoint, the shape in current model is torch.Size([1000]).\n"
     ]
    }
   ],
   "source": [
    "!python mygradio.py gradio -i f14 -j options/nova1.yaml # -i: results dir name"
   ]
  },
  {
   "cell_type": "code",
   "execution_count": 1,
   "id": "5fb23751-6806-432c-90a9-08636822a830",
   "metadata": {},
   "outputs": [
    {
     "name": "stdout",
     "output_type": "stream",
     "text": [
      "Name: gradio\n",
      "Version: 4.22.0\n",
      "Summary: Python library for easily interacting with trained machine learning models\n",
      "Home-page: \n",
      "Author: \n",
      "Author-email: Abubakar Abid <gradio-team@huggingface.co>, Ali Abid <gradio-team@huggingface.co>, Ali Abdalla <gradio-team@huggingface.co>, Dawood Khan <gradio-team@huggingface.co>, Ahsen Khaliq <gradio-team@huggingface.co>, Pete Allen <gradio-team@huggingface.co>, Ömer Faruk Özdemir <gradio-team@huggingface.co>, Freddy A Boulton <gradio-team@huggingface.co>, Hannah Blair <gradio-team@huggingface.co>\n",
      "License: \n",
      "Location: /projectnb/btec-design3/novanetworks/novaenv/lib/python3.10/site-packages\n",
      "Requires: aiofiles, altair, fastapi, ffmpy, gradio-client, httpx, huggingface-hub, importlib-resources, jinja2, markupsafe, matplotlib, numpy, orjson, packaging, pandas, pillow, pydantic, pydub, python-multipart, pyyaml, ruff, semantic-version, tomlkit, typer, typing-extensions, uvicorn\n",
      "Required-by: \n"
     ]
    }
   ],
   "source": [
    "!pip show gradio"
   ]
  },
  {
   "cell_type": "code",
   "execution_count": null,
   "id": "9708e8c6-4315-4274-af36-7272b55a900b",
   "metadata": {},
   "outputs": [],
   "source": []
  }
 ],
 "metadata": {
  "kernelspec": {
   "display_name": "Python 3 (ipykernel)",
   "language": "python",
   "name": "python3"
  },
  "language_info": {
   "codemirror_mode": {
    "name": "ipython",
    "version": 3
   },
   "file_extension": ".py",
   "mimetype": "text/x-python",
   "name": "python",
   "nbconvert_exporter": "python",
   "pygments_lexer": "ipython3",
   "version": "3.10.12"
  }
 },
 "nbformat": 4,
 "nbformat_minor": 5
}
