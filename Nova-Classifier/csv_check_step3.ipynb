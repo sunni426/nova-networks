{
 "cells": [
  {
   "cell_type": "code",
   "execution_count": 5,
   "id": "d774a709-71c8-425d-a198-bacd6a0f78bf",
   "metadata": {},
   "outputs": [
    {
     "name": "stdout",
     "output_type": "stream",
     "text": [
      "/projectnb/btec-design3/novanetworks/novaenv/bin/python\n",
      "/projectnb/btec-design3/novanetworks/nova-networks/HPA-nova\n",
      "True\n",
      "True\n",
      "0\n"
     ]
    }
   ],
   "source": [
    "!which python\n",
    "!pwd\n",
    "\n",
    "import torch\n",
    "# Making the code device-agnostic\n",
    "!source ../../novaenv/bin/activate\n",
    "print(torch.backends.cudnn.enabled)\n",
    "print(torch.cuda.is_available())\n",
    "import os\n",
    "print(os.getenv(\"CUDA_VISIBLE_DEVICES\"))\n",
    "torch.cuda.empty_cache()"
   ]
  },
  {
   "cell_type": "code",
   "execution_count": 7,
   "id": "b3c45449-ed72-4048-b48e-45d29a052cfc",
   "metadata": {},
   "outputs": [],
   "source": [
    "'''\n",
    "    Extracts cells present in image folder and makes new csv\n",
    "'''\n",
    "\n",
    "import os\n",
    "import pandas as pd\n",
    "\n",
    "# Path to the CSV file with image IDs\n",
    "csv_file_path = 'transformed_file.csv'\n",
    "\n",
    "# Path to the folder containing the images\n",
    "image_folder_path = '../preprocessing/train_bbbc_2/cell'\n",
    "\n",
    "# Read the CSV file into a DataFrame\n",
    "df = pd.read_csv(csv_file_path)\n",
    "\n",
    "# Create an empty list to store rows for the new DataFrame\n",
    "new_rows = []\n",
    "\n",
    "# Iterate through each row in the original DataFrame\n",
    "for index, row in df.iterrows():\n",
    "    plate_value = str(int(float(row[\"Metadata_Plate\"])))\n",
    "    image_file_path = os.path.join(image_folder_path, f'{plate_value}_{row[\"Metadata_Well\"]}_cell10.png')  # Assuming images have a .jpg extension\n",
    "\n",
    "    # print(image_file_path)\n",
    "    \n",
    "    # Check if the image file exists\n",
    "    if os.path.exists(image_file_path):\n",
    "        # print(row)\n",
    "        new_rows.append(row)\n",
    "        # break\n",
    "\n",
    "# Create a new DataFrame from the list of rows\n",
    "new_df = pd.DataFrame(new_rows)\n",
    "\n",
    "# Save the new DataFrame to a new CSV file\n",
    "new_csv_file_path = 'bbbc2_rename_10cell.csv'\n",
    "new_df.to_csv(new_csv_file_path, index=False)"
   ]
  },
  {
   "cell_type": "code",
   "execution_count": 9,
   "id": "c2a6c0e5-612a-4f7b-a373-c467fb70ff12",
   "metadata": {},
   "outputs": [],
   "source": [
    "'''\n",
    "    Extracts cells present in image folder and makes new csv\n",
    "'''\n",
    "\n",
    "import os\n",
    "import pandas as pd\n",
    "\n",
    "# Path to the CSV file with image IDs\n",
    "csv_file_path = 'dataloaders/split/256_train+ext+rare.csv'\n",
    "\n",
    "# Path to the folder containing the images\n",
    "image_folder_path = '../preprocessing/train_final/cell'\n",
    "\n",
    "# Read the CSV file into a DataFrame\n",
    "df = pd.read_csv(csv_file_path)\n",
    "\n",
    "# Create an empty list to store rows for the new DataFrame\n",
    "new_rows = []\n",
    "\n",
    "# Iterate through each row in the original DataFrame\n",
    "for index, row in df.iterrows():\n",
    "    image_id = row['ID']  # Assuming 'ImageID' is the column containing image IDs\n",
    "    image_file_path = os.path.join(image_folder_path, f'{image_id}_cell10.png')  # Assuming images have a .jpg extension\n",
    "\n",
    "    # print(image_file_path)\n",
    "    \n",
    "    # Check if the image file exists\n",
    "    if os.path.isfile(image_file_path):\n",
    "        # print(row)\n",
    "        new_rows.append(row)\n",
    "        # break\n",
    "\n",
    "# Create a new DataFrame from the list of rows\n",
    "new_df = pd.DataFrame(new_rows)\n",
    "\n",
    "# Save the new DataFrame to a new CSV file\n",
    "new_csv_file_path = 'HPA_final.csv'\n",
    "new_df.to_csv(new_csv_file_path, index=False)"
   ]
  },
  {
   "cell_type": "code",
   "execution_count": null,
   "id": "e878304d-b4c0-47b6-a732-a0c3f8a9c8e4",
   "metadata": {},
   "outputs": [],
   "source": []
  }
 ],
 "metadata": {
  "kernelspec": {
   "display_name": "Python 3 (ipykernel)",
   "language": "python",
   "name": "python3"
  },
  "language_info": {
   "codemirror_mode": {
    "name": "ipython",
    "version": 3
   },
   "file_extension": ".py",
   "mimetype": "text/x-python",
   "name": "python",
   "nbconvert_exporter": "python",
   "pygments_lexer": "ipython3",
   "version": "3.10.12"
  }
 },
 "nbformat": 4,
 "nbformat_minor": 5
}
