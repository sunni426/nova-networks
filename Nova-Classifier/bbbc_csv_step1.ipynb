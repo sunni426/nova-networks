{
 "cells": [
  {
   "cell_type": "code",
   "execution_count": 1,
   "id": "d774a709-71c8-425d-a198-bacd6a0f78bf",
   "metadata": {},
   "outputs": [
    {
     "name": "stdout",
     "output_type": "stream",
     "text": [
      "/projectnb/btec-design3/novanetworks/novaenv/bin/python\n",
      "/projectnb/btec-design3/novanetworks/nova-networks/HPA-nova\n",
      "True\n",
      "True\n",
      "0\n"
     ]
    }
   ],
   "source": [
    "!which python\n",
    "!pwd\n",
    "\n",
    "import torch\n",
    "# Making the code device-agnostic\n",
    "!source ../../novaenv/bin/activate\n",
    "print(torch.backends.cudnn.enabled)\n",
    "print(torch.cuda.is_available())\n",
    "import os\n",
    "print(os.getenv(\"CUDA_VISIBLE_DEVICES\"))\n",
    "torch.cuda.empty_cache()"
   ]
  },
  {
   "cell_type": "code",
   "execution_count": 2,
   "id": "b3c45449-ed72-4048-b48e-45d29a052cfc",
   "metadata": {},
   "outputs": [
    {
     "name": "stdout",
     "output_type": "stream",
     "text": [
      "693\n"
     ]
    }
   ],
   "source": [
    "import pandas as pd\n",
    "\n",
    "file_path = 'dataloaders/split/train_bbbc_OG.csv'\n",
    "df = pd.read_csv(file_path)\n",
    "\n",
    "all_classes = df.iloc[:, 3].str.split('|').explode()\n",
    "unique_classes = all_classes.unique()\n",
    "class_to_number = {class_name: i for i, class_name in enumerate(unique_classes)}\n",
    "\n",
    "print(len(class_to_number)) #693 classes\n",
    "df.iloc[:, 3] = df.iloc[:, 3].str.split('|').apply(lambda classes: '|'.join(str(class_to_number[c]) for c in classes))\n",
    "\n",
    "df.to_csv('bbbc_numclass.csv', index=False)\n"
   ]
  },
  {
   "cell_type": "code",
   "execution_count": null,
   "id": "748d23f0-2de6-4894-b67d-68ccdea619e1",
   "metadata": {},
   "outputs": [],
   "source": [
    "import pandas as pd\n",
    "\n",
    "file_path = 'bbbc_numclass.csv'\n",
    "df = pd.read_csv(file_path)\n",
    "\n",
    "classes = set('|'.join(df.iloc[:, 3]).split('|'))\n",
    "transformed_df = pd.DataFrame(columns=['Metadata_Plate', 'Metadata_Well', 'Metadata_broad_sample'] + list(classes))\n",
    "\n",
    "\n",
    "for index, row in df.iterrows():\n",
    "    # Extract the classes from the fourth column\n",
    "    class_labels = row[3].split('|')\n",
    "    print(class_labels)\n",
    "    # Create a dictionary to store the values for this row\n",
    "    row_values = {column: 1 if column in class_labels else 0 for column in transformed_df.columns[3:]}\n",
    "    # Add the values for the first three columns\n",
    "    row_values.update({'Metadata_Plate': row[0], 'Metadata_Well': row[1], 'Metadata_broad_sample': row[2]})\n",
    "    # Append the row to the transformed DataFrame\n",
    "    transformed_df.loc[len(transformed_df)] = row_values\n",
    "\n",
    "\n",
    "transformed_df.to_csv('transformed_file.csv', index=False)\n",
    "\n"
   ]
  },
  {
   "cell_type": "code",
   "execution_count": 2,
   "id": "b7e41946-c28a-49e8-8659-47e71e94f1d1",
   "metadata": {},
   "outputs": [
    {
     "name": "stdout",
     "output_type": "stream",
     "text": [
      "['0', '1', '10', '100', '101', '102', '103', '104', '105', '106', '107', '108', '109', '11', '110', '111', '112', '113', '114', '115', '116', '117', '118', '119', '12', '120', '121', '122', '123', '124', '125', '126', '127', '128', '129', '13', '130', '131', '132', '133', '134', '135', '136', '137', '138', '139', '14', '140', '141', '142', '143', '144', '145', '146', '147', '148', '149', '15', '150', '151', '152', '153', '154', '155', '156', '157', '158', '159', '16', '160', '161', '162', '163', '164', '165', '166', '167', '168', '169', '17', '170', '171', '172', '173', '174', '175', '176', '177', '178', '179', '18', '180', '181', '182', '183', '184', '185', '186', '187', '188', '189', '19', '190', '191', '192', '193', '194', '195', '196', '197', '198', '199', '2', '20', '200', '201', '202', '203', '204', '205', '206', '207', '208', '209', '21', '210', '211', '212', '213', '214', '215', '216', '217', '218', '219', '22', '220', '221', '222', '223', '224', '225', '226', '227', '228', '229', '23', '230', '231', '232', '233', '234', '235', '236', '237', '238', '239', '24', '240', '241', '242', '243', '244', '245', '246', '247', '248', '249', '25', '250', '251', '252', '253', '254', '255', '256', '257', '258', '259', '26', '260', '261', '262', '263', '264', '265', '266', '267', '268', '269', '27', '270', '271', '272', '273', '274', '275', '276', '277', '278', '279', '28', '280', '281', '282', '283', '284', '285', '286', '287', '288', '289', '29', '290', '291', '292', '293', '294', '295', '296', '297', '298', '299', '3', '30', '300', '301', '302', '303', '304', '305', '306', '307', '308', '309', '31', '310', '311', '312', '313', '314', '315', '316', '317', '318', '319', '32', '320', '321', '322', '323', '324', '325', '326', '327', '328', '329', '33', '330', '331', '332', '333', '334', '335', '336', '337', '338', '339', '34', '340', '341', '342', '343', '344', '345', '346', '347', '348', '349', '35', '350', '351', '352', '353', '354', '355', '356', '357', '358', '359', '36', '360', '361', '362', '363', '364', '365', '366', '367', '368', '369', '37', '370', '371', '372', '373', '374', '375', '376', '377', '378', '379', '38', '380', '381', '382', '383', '384', '385', '386', '387', '388', '389', '39', '390', '391', '392', '393', '394', '395', '396', '397', '398', '399', '4', '40', '400', '401', '402', '403', '404', '405', '406', '407', '408', '409', '41', '410', '411', '412', '413', '414', '415', '416', '417', '418', '419', '42', '420', '421', '422', '423', '424', '425', '426', '427', '428', '429', '43', '430', '431', '432', '433', '434', '435', '436', '437', '438', '439', '44', '440', '441', '442', '443', '444', '445', '446', '447', '448', '449', '45', '450', '451', '452', '453', '454', '455', '456', '457', '458', '459', '46', '460', '461', '462', '463', '464', '465', '466', '467', '468', '469', '47', '470', '471', '472', '473', '474', '475', '476', '477', '478', '479', '48', '480', '481', '482', '483', '484', '485', '486', '487', '488', '489', '49', '490', '491', '492', '493', '494', '495', '496', '497', '498', '499', '5', '50', '500', '501', '502', '503', '504', '505', '506', '507', '508', '509', '51', '510', '511', '512', '513', '514', '515', '516', '517', '518', '519', '52', '520', '521', '522', '523', '524', '525', '526', '527', '528', '529', '53', '530', '531', '532', '533', '534', '535', '536', '537', '538', '539', '54', '540', '541', '542', '543', '544', '545', '546', '547', '548', '549', '55', '550', '551', '552', '553', '554', '555', '556', '557', '558', '559', '56', '560', '561', '562', '563', '564', '565', '566', '567', '568', '569', '57', '570', '571', '572', '573', '574', '575', '576', '577', '578', '579', '58', '580', '581', '582', '583', '584', '585', '586', '587', '588', '589', '59', '590', '591', '592', '593', '594', '595', '596', '597', '598', '599', '6', '60', '600', '601', '602', '603', '604', '605', '606', '607', '608', '609', '61', '610', '611', '612', '613', '614', '615', '616', '617', '618', '619', '62', '620', '621', '622', '623', '624', '625', '626', '627', '628', '629', '63', '630', '631', '632', '633', '634', '635', '636', '637', '638', '639', '64', '640', '641', '642', '643', '644', '645', '646', '647', '648', '649', '65', '650', '651', '652', '653', '654', '655', '656', '657', '658', '659', '66', '660', '661', '662', '663', '664', '665', '666', '667', '668', '669', '67', '670', '671', '672', '673', '674', '675', '676', '677', '678', '679', '68', '680', '681', '682', '683', '684', '685', '686', '687', '688', '689', '69', '690', '691', '692', '7', '70', '71', '72', '73', '74', '75', '76', '77', '78', '79', '8', '80', '81', '82', '83', '84', '85', '86', '87', '88', '89', '9', '90', '91', '92', '93', '94', '95', '96', '97', '98', '99']\n"
     ]
    },
    {
     "name": "stderr",
     "output_type": "stream",
     "text": [
      "/scratch/6026870.1.p100/ipykernel_144713/1202262854.py:15: FutureWarning: Series.__getitem__ treating keys as positions is deprecated. In a future version, integer keys will always be treated as labels (consistent with DataFrame behavior). To access a value by position, use `ser.iloc[pos]`\n",
      "  class_labels = row[3].split('|')\n",
      "/scratch/6026870.1.p100/ipykernel_144713/1202262854.py:19: FutureWarning: Series.__getitem__ treating keys as positions is deprecated. In a future version, integer keys will always be treated as labels (consistent with DataFrame behavior). To access a value by position, use `ser.iloc[pos]`\n",
      "  transformed_df.iloc[index, 0] = row[0]\n",
      "/scratch/6026870.1.p100/ipykernel_144713/1202262854.py:20: FutureWarning: Series.__getitem__ treating keys as positions is deprecated. In a future version, integer keys will always be treated as labels (consistent with DataFrame behavior). To access a value by position, use `ser.iloc[pos]`\n",
      "  transformed_df.iloc[index, 1] = row[1]\n",
      "/scratch/6026870.1.p100/ipykernel_144713/1202262854.py:20: FutureWarning: Setting an item of incompatible dtype is deprecated and will raise in a future error of pandas. Value 'a01' has dtype incompatible with float64, please explicitly cast to a compatible dtype first.\n",
      "  transformed_df.iloc[index, 1] = row[1]\n",
      "/scratch/6026870.1.p100/ipykernel_144713/1202262854.py:21: FutureWarning: Series.__getitem__ treating keys as positions is deprecated. In a future version, integer keys will always be treated as labels (consistent with DataFrame behavior). To access a value by position, use `ser.iloc[pos]`\n",
      "  transformed_df.iloc[index, 2] = row[2]\n",
      "/scratch/6026870.1.p100/ipykernel_144713/1202262854.py:21: FutureWarning: Setting an item of incompatible dtype is deprecated and will raise in a future error of pandas. Value 'BRD-K78364995-236-03-5' has dtype incompatible with float64, please explicitly cast to a compatible dtype first.\n",
      "  transformed_df.iloc[index, 2] = row[2]\n"
     ]
    }
   ],
   "source": [
    "import pandas as pd\n",
    "import numpy as np\n",
    "\n",
    "original_df = pd.read_csv('bbbc_number_class.csv')\n",
    "\n",
    "# Split the classes in the fourth column and create a list of unique classes\n",
    "classes = sorted(set('|'.join(original_df.iloc[:, 3]).split('|')))\n",
    "\n",
    "# Create a new DataFrame filled with zeros\n",
    "transformed_df = pd.DataFrame(np.zeros((len(original_df), len(classes) + 3)), columns=['Metadata_Plate', 'Metadata_Well', 'Metadata_broad_sample'] + list(classes))\n",
    "print(classes)\n",
    "# Iterate over each row in the original DataFrame\n",
    "for index, row in original_df.iterrows():\n",
    "    # Extract the classes from the fourth column\n",
    "    class_labels = row[3].split('|')\n",
    "    # Set the values for the class labels to 1\n",
    "    transformed_df.iloc[index, 3:] = [1 if label in class_labels else 0 for label in transformed_df.columns[3:]]\n",
    "    # Set the values for the first three columns\n",
    "    transformed_df.iloc[index, 0] = row[0]\n",
    "    transformed_df.iloc[index, 1] = row[1]\n",
    "    transformed_df.iloc[index, 2] = row[2]\n",
    "\n",
    "\n",
    "# Save the transformed DataFrame to a new CSV file\n",
    "transformed_df.to_csv('transformed_file.csv', index=False)\n"
   ]
  },
  {
   "cell_type": "code",
   "execution_count": 3,
   "id": "99d9cdce-ccfa-41bd-9deb-95bad1b5dc72",
   "metadata": {},
   "outputs": [
    {
     "name": "stderr",
     "output_type": "stream",
     "text": [
      "/scratch/6794582.1.a100/ipykernel_2742524/2449658527.py:22: FutureWarning: Series.__getitem__ treating keys as positions is deprecated. In a future version, integer keys will always be treated as labels (consistent with DataFrame behavior). To access a value by position, use `ser.iloc[pos]`\n",
      "  class_labels = [int(label) for label in row[3].split('|')]\n",
      "/scratch/6794582.1.a100/ipykernel_2742524/2449658527.py:26: FutureWarning: Series.__getitem__ treating keys as positions is deprecated. In a future version, integer keys will always be treated as labels (consistent with DataFrame behavior). To access a value by position, use `ser.iloc[pos]`\n",
      "  transformed_df.iloc[index, 0] = int(row[0])\n",
      "/scratch/6794582.1.a100/ipykernel_2742524/2449658527.py:27: FutureWarning: Series.__getitem__ treating keys as positions is deprecated. In a future version, integer keys will always be treated as labels (consistent with DataFrame behavior). To access a value by position, use `ser.iloc[pos]`\n",
      "  transformed_df.iloc[index, 1] = row[1]\n",
      "/scratch/6794582.1.a100/ipykernel_2742524/2449658527.py:27: FutureWarning: Setting an item of incompatible dtype is deprecated and will raise in a future error of pandas. Value 'a01' has dtype incompatible with float64, please explicitly cast to a compatible dtype first.\n",
      "  transformed_df.iloc[index, 1] = row[1]\n",
      "/scratch/6794582.1.a100/ipykernel_2742524/2449658527.py:28: FutureWarning: Series.__getitem__ treating keys as positions is deprecated. In a future version, integer keys will always be treated as labels (consistent with DataFrame behavior). To access a value by position, use `ser.iloc[pos]`\n",
      "  transformed_df.iloc[index, 2] = row[2]\n",
      "/scratch/6794582.1.a100/ipykernel_2742524/2449658527.py:28: FutureWarning: Setting an item of incompatible dtype is deprecated and will raise in a future error of pandas. Value 'BRD-K78364995-236-03-5' has dtype incompatible with float64, please explicitly cast to a compatible dtype first.\n",
      "  transformed_df.iloc[index, 2] = row[2]\n"
     ]
    }
   ],
   "source": [
    "import pandas as pd\n",
    "import numpy as np\n",
    "\n",
    "# Load the original CSV file\n",
    "original_df = pd.read_csv('bbbc_numclass.csv')\n",
    "\n",
    "# Split the classes in the fourth column and create a list of unique classes\n",
    "class_labels = '|'.join(original_df.iloc[:, 3]).split('|')\n",
    "classes = set(class_labels)\n",
    "\n",
    "# Convert class labels to integers\n",
    "class_labels_int = [int(label) for label in class_labels]\n",
    "# Get unique class labels and sort them\n",
    "sorted_classes = sorted(set(class_labels_int))\n",
    "\n",
    "# Create a new DataFrame filled with zeros\n",
    "transformed_df = pd.DataFrame(np.zeros((len(original_df), len(sorted_classes) + 3)), columns=['Metadata_Plate', 'Metadata_Well', 'Metadata_broad_sample'] + [str(cls) for cls in sorted_classes])\n",
    "\n",
    "# Iterate over each row in the original DataFrame\n",
    "for index, row in original_df.iterrows():\n",
    "    # Extract the classes from the fourth column\n",
    "    class_labels = [int(label) for label in row[3].split('|')]\n",
    "    # Set the values for the class labels to 1\n",
    "    transformed_df.iloc[index, 3:] = [1 if cls in class_labels else 0 for cls in sorted_classes]\n",
    "    # Set the values for the first three columns\n",
    "    transformed_df.iloc[index, 0] = int(row[0])\n",
    "    transformed_df.iloc[index, 1] = row[1]\n",
    "    transformed_df.iloc[index, 2] = row[2]\n",
    "\n",
    "# Save the transformed DataFrame to a new CSV file\n",
    "transformed_df.to_csv('transformed_file.csv', index=False)\n"
   ]
  },
  {
   "cell_type": "code",
   "execution_count": null,
   "id": "c2a6c0e5-612a-4f7b-a373-c467fb70ff12",
   "metadata": {},
   "outputs": [],
   "source": []
  }
 ],
 "metadata": {
  "kernelspec": {
   "display_name": "Python 3 (ipykernel)",
   "language": "python",
   "name": "python3"
  },
  "language_info": {
   "codemirror_mode": {
    "name": "ipython",
    "version": 3
   },
   "file_extension": ".py",
   "mimetype": "text/x-python",
   "name": "python",
   "nbconvert_exporter": "python",
   "pygments_lexer": "ipython3",
   "version": "3.10.12"
  }
 },
 "nbformat": 4,
 "nbformat_minor": 5
}
