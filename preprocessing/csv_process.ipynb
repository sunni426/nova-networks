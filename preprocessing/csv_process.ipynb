{
 "cells": [
  {
   "cell_type": "code",
   "execution_count": 9,
   "id": "940cfc15-63e9-4872-b94b-17a260994a4a",
   "metadata": {},
   "outputs": [],
   "source": [
    "'''\n",
    "    Extracts cells present in image folder and makes new csv\n",
    "'''\n",
    "\n",
    "import os\n",
    "import pandas as pd\n",
    "\n",
    "# Path to the CSV file with image IDs\n",
    "csv_file_path = '0_train_500.csv'\n",
    "\n",
    "# Path to the folder containing the images\n",
    "image_folder_path = 'cropped_cells'\n",
    "\n",
    "# Read the CSV file into a DataFrame\n",
    "df = pd.read_csv(csv_file_path)\n",
    "\n",
    "# Create an empty list to store rows for the new DataFrame\n",
    "new_rows = []\n",
    "\n",
    "# Iterate through each row in the original DataFrame\n",
    "for index, row in df.iterrows():\n",
    "    image_id = row['ID']  # Assuming 'ImageID' is the column containing image IDs\n",
    "    image_file_path = os.path.join(image_folder_path, f'{image_id}_cell1.png')  # Assuming images have a .jpg extension\n",
    "\n",
    "    # print(image_file_path)\n",
    "    \n",
    "    # Check if the image file exists\n",
    "    if os.path.isfile(image_file_path):\n",
    "        # print(row)\n",
    "        new_rows.append(row)\n",
    "        # break\n",
    "\n",
    "# Create a new DataFrame from the list of rows\n",
    "new_df = pd.DataFrame(new_rows)\n",
    "\n",
    "# Save the new DataFrame to a new CSV file\n",
    "new_csv_file_path = '0_train_500_new.csv'\n",
    "new_df.to_csv(new_csv_file_path, index=False)\n"
   ]
  },
  {
   "cell_type": "code",
   "execution_count": null,
   "id": "dcacadfa-f1a1-4294-a724-5bad789b3d63",
   "metadata": {},
   "outputs": [],
   "source": []
  }
 ],
 "metadata": {
  "kernelspec": {
   "display_name": "Python 3 (ipykernel)",
   "language": "python",
   "name": "python3"
  },
  "language_info": {
   "codemirror_mode": {
    "name": "ipython",
    "version": 3
   },
   "file_extension": ".py",
   "mimetype": "text/x-python",
   "name": "python",
   "nbconvert_exporter": "python",
   "pygments_lexer": "ipython3",
   "version": "3.10.12"
  }
 },
 "nbformat": 4,
 "nbformat_minor": 5
}
