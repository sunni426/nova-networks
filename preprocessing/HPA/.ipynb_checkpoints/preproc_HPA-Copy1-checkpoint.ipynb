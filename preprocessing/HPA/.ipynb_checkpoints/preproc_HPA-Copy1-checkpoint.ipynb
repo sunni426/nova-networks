{
 "cells": [
  {
   "cell_type": "markdown",
   "metadata": {},
   "source": [
    "# **Download HPA Dataset**\n",
    "https://www.kaggle.com/competitions/hpa-single-cell-image-classification/data\n",
    "\n",
    "- 19 Labels\n",
    "- 4 channels (red, green, blue, yellow)"
   ]
  },
  {
   "cell_type": "markdown",
   "metadata": {},
   "source": [
    "### Step 1\n",
    "- Install Kaggle API\n",
    "    - <code>git clone https://github.com/Kaggle/kaggle-api</code>\n",
    "- Run <code>kaggle competitions download -c hpa-single-cell-image-classification</code> in the command line\n",
    "- We didn't use the <font color=\"magenta\">test dataset</font>, which had no ground-truth labels"
   ]
  },
  {
   "cell_type": "markdown",
   "metadata": {},
   "source": [
    "### Step 2\n",
    " - Use **_/metatdata/train_HPA.csv_** to check whether the cropped image folder have the image listed in the csv\n",
    " - This also checks whether this image ID have 10 individual cropped cell\n",
    " - If it meets both criteria, the row corresponding to the image ID will be saved, otherwise removed from the csv\n",
    " - Output:\n",
    "    - **_HPA_final.csv_** for model training\n",
    "      "
   ]
  },
  {
   "cell_type": "code",
   "execution_count": null,
   "metadata": {
    "vscode": {
     "languageId": "plaintext"
    }
   },
   "outputs": [],
   "source": [
    "'''\n",
    "    Extracts cells present in image folder and makes new csv\n",
    "'''\n",
    "\n",
    "import os\n",
    "import pandas as pd\n",
    "\n",
    "# Path to the CSV file with image IDs\n",
    "csv_file_path = 'dataloaders/split/256_train+ext+rare.csv'\n",
    "\n",
    "# Path to the folder containing the images\n",
    "image_folder_path = '../preprocessing/train_final/cell'\n",
    "\n",
    "# Read the CSV file into a DataFrame\n",
    "df = pd.read_csv(csv_file_path)\n",
    "\n",
    "# Create an empty list to store rows for the new DataFrame\n",
    "new_rows = []\n",
    "\n",
    "# Iterate through each row in the original DataFrame\n",
    "for index, row in df.iterrows():\n",
    "    image_id = row['ID']  # Assuming 'ImageID' is the column containing image IDs\n",
    "    image_file_path = os.path.join(image_folder_path, f'{image_id}_cell10.png')  # Assuming images have a .jpg extension\n",
    "\n",
    "    # print(image_file_path)\n",
    "    \n",
    "    # Check if the image file exists\n",
    "    if os.path.isfile(image_file_path):\n",
    "        # print(row)\n",
    "        new_rows.append(row)\n",
    "        # break\n",
    "\n",
    "# Create a new DataFrame from the list of rows\n",
    "new_df = pd.DataFrame(new_rows)\n",
    "\n",
    "# Save the new DataFrame to a new CSV file\n",
    "new_csv_file_path = 'HPA_final.csv'\n",
    "new_df.to_csv(new_csv_file_path, index=False)\n"
   ]
  },
  {
   "cell_type": "markdown",
   "metadata": {},
   "source": [
    "### Step 3\n",
    "- Split into train, test, val"
   ]
  },
  {
   "cell_type": "markdown",
   "metadata": {},
   "source": [
    "# **Run Preprocessing**"
   ]
  },
  {
   "cell_type": "markdown",
   "metadata": {},
   "source": [
    "- Run preproc_HPA.sh"
   ]
  },
  {
   "cell_type": "code",
   "execution_count": null,
   "metadata": {
    "vscode": {
     "languageId": "plaintext"
    }
   },
   "outputs": [],
   "source": [
    "# Deborah's code"
   ]
  }
 ],
 "metadata": {
  "kernelspec": {
   "display_name": "Python 3 (ipykernel)",
   "language": "python",
   "name": "python3"
  },
  "language_info": {
   "codemirror_mode": {
    "name": "ipython",
    "version": 3
   },
   "file_extension": ".py",
   "mimetype": "text/x-python",
   "name": "python",
   "nbconvert_exporter": "python",
   "pygments_lexer": "ipython3",
   "version": "3.10.12"
  }
 },
 "nbformat": 4,
 "nbformat_minor": 4
}
