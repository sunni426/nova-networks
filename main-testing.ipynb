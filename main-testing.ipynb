{
 "cells": [
  {
   "cell_type": "code",
   "execution_count": 1,
   "metadata": {
    "tags": []
   },
   "outputs": [
    {
     "name": "stdout",
     "output_type": "stream",
     "text": [
      "/projectnb/btec-design3/novanetworks/nova-networks/HPA-nova\n"
     ]
    },
    {
     "name": "stderr",
     "output_type": "stream",
     "text": [
      "/projectnb/btec-design3/novanetworks/novaenv/lib/python3.10/site-packages/IPython/core/magics/osm.py:417: UserWarning: using dhist requires you to install the `pickleshare` library.\n",
      "  self.shell.db['dhist'] = compress_dhist(dhist)[-100:]\n"
     ]
    }
   ],
   "source": [
    "!source novaenv/bin/activate\n",
    "%cd nova-networks/HPA-nova"
   ]
  },
  {
   "cell_type": "code",
   "execution_count": 2,
   "metadata": {
    "tags": []
   },
   "outputs": [
    {
     "name": "stdout",
     "output_type": "stream",
     "text": [
      "/projectnb/btec-design3/novanetworks/novaenv/bin/python\n",
      "/projectnb/btec-design3/novanetworks/nova-networks/HPA-nova\n",
      "True\n",
      "True\n",
      "1\n",
      "7\n"
     ]
    }
   ],
   "source": [
    "# !pip install pytorch-zoo@https://github.com/haoxusci/pytorch_zoo/archive/master.zip#sha256=38acc01279e42d1cf1dbde0cbfb43c72dcf4544e8e052dd13ecefe7b30425561\n",
    "!which python\n",
    "!pwd\n",
    "\n",
    "import torch\n",
    "# Making the code device-agnostic\n",
    "!source ../../novaenv/bin/activate\n",
    "print(torch.backends.cudnn.enabled)\n",
    "print(torch.cuda.is_available())\n",
    "import os\n",
    "print(os.getenv(\"CUDA_VISIBLE_DEVICES\"))\n",
    "torch.cuda.empty_cache()\n",
    "nslots = int(os.environ['NSLOTS'])\n",
    "#Set num_workers to nslots -1\n",
    "ncores = nslots - 1\n",
    "num_workers = ncores\n",
    "print(num_workers)"
   ]
  },
  {
   "cell_type": "code",
   "execution_count": null,
   "metadata": {},
   "outputs": [],
   "source": [
    "import torch\n",
    "\n",
    "# model.load_state_dict(torch.load('results/f11/checkpoints/f0_epoch-1.pth')\n",
    "loaded_model = torch.load('results/f11/checkpoints/f0_epoch-1.pth')\n",
    "print(\"State_dict keys:\", loaded_model.keys())"
   ]
  },
  {
   "cell_type": "code",
   "execution_count": 3,
   "metadata": {},
   "outputs": [
    {
     "name": "stdout",
     "output_type": "stream",
     "text": [
      "2024-04-25 12:10:22.115190: E external/local_xla/xla/stream_executor/cuda/cuda_dnn.cc:9261] Unable to register cuDNN factory: Attempting to register factory for plugin cuDNN when one has already been registered\n",
      "2024-04-25 12:10:22.115225: E external/local_xla/xla/stream_executor/cuda/cuda_fft.cc:607] Unable to register cuFFT factory: Attempting to register factory for plugin cuFFT when one has already been registered\n",
      "2024-04-25 12:10:22.116816: E external/local_xla/xla/stream_executor/cuda/cuda_blas.cc:1515] Unable to register cuBLAS factory: Attempting to register factory for plugin cuBLAS when one has already been registered\n",
      "2024-04-25 12:10:22.124396: I tensorflow/core/platform/cpu_feature_guard.cc:182] This TensorFlow binary is optimized to use available CPU instructions in performance-critical operations.\n",
      "To enable the following instructions: AVX2 AVX512F FMA, in other operations, rebuild TensorFlow with the appropriate compiler flags.\n",
      "2024-04-25 12:10:26.679163: W tensorflow/compiler/tf2tensorrt/utils/py_utils.cc:38] TF-TRT Warning: Could not find TensorRT\n",
      "[ √ ] Landmark!\n",
      "[ √ ] Using #1 GPU\n",
      "Best check we use is: f0_epoch-173.pth\n",
      "[ √ ] Using transformation: s_0220/sin_256_final & s_0220/sin_256_final, image size: 128\n",
      "[ √ ] Use weighted sampler, method: sqrt\n",
      "   Metadata_Plate Metadata_Well   Metadata_broad_sample  ...  690  691  692\n",
      "0         24279.0           a01  BRD-K78364995-236-03-5  ...  0.0  0.0  0.0\n",
      "1         24279.0           a24  BRD-K79366068-236-01-5  ...  0.0  0.0  0.0\n",
      "\n",
      "[2 rows x 696 columns]\n",
      "[ W ] single gpu prediction the gpus is 1\n",
      "Testing...\n",
      "[ √ ] Best Epoch: 173, mAP: 0.0523, auc: 0.7480, loss: 6.661241\n"
     ]
    }
   ],
   "source": [
    "!python main.py test -i bbbc86 -j options/nova_bbbc_resnet.yaml --epoch 173\n"
   ]
  },
  {
   "cell_type": "code",
   "execution_count": null,
   "metadata": {},
   "outputs": [],
   "source": []
  }
 ],
 "metadata": {
  "kernelspec": {
   "display_name": "Python 3 (ipykernel)",
   "language": "python",
   "name": "python3"
  },
  "language_info": {
   "codemirror_mode": {
    "name": "ipython",
    "version": 3
   },
   "file_extension": ".py",
   "mimetype": "text/x-python",
   "name": "python",
   "nbconvert_exporter": "python",
   "pygments_lexer": "ipython3",
   "version": "3.10.12"
  }
 },
 "nbformat": 4,
 "nbformat_minor": 4
}
